{
 "cells": [
  {
   "cell_type": "markdown",
   "metadata": {},
   "source": [
    "# Simple 1 hidden layer neural-network"
   ]
  },
  {
   "cell_type": "markdown",
   "metadata": {},
   "source": [
    "### Column three is always one, if either of columns 1 or 2 is 1, then the output is also 1. This is considered to be a nonlinear pattern because there isn't direct one2one relationship between columns. \n",
    "### Instead one2one relationship between the combination of the colums!!\n"
   ]
  },
  {
   "cell_type": "code",
   "execution_count": 1,
   "metadata": {},
   "outputs": [],
   "source": [
    "import numpy as np"
   ]
  },
  {
   "cell_type": "code",
   "execution_count": 2,
   "metadata": {},
   "outputs": [],
   "source": [
    "def sigmoid(x, deriv=False):\n",
    "    # sigmoid function used for cost function.\n",
    "    # it maps x features to [0, 1] output\n",
    "    if deriv:\n",
    "        return x * (1 - x)\n",
    "    return 1 / (1 + np.exp(-x))"
   ]
  },
  {
   "cell_type": "code",
   "execution_count": 3,
   "metadata": {},
   "outputs": [],
   "source": [
    "# input data\n",
    "X = np.array([[0, 0, 1],\n",
    "              [0, 1, 1],\n",
    "              [1, 0, 1],\n",
    "              [1, 1, 1]])\n",
    "# output data\n",
    "y = np.array([[0],\n",
    "              [1],\n",
    "              [1],\n",
    "              [0]])"
   ]
  },
  {
   "cell_type": "code",
   "execution_count": 4,
   "metadata": {},
   "outputs": [],
   "source": [
    "np.random.seed(1)  # having deterministic random values everytime we run the program"
   ]
  },
  {
   "cell_type": "code",
   "execution_count": 5,
   "metadata": {},
   "outputs": [],
   "source": [
    "# Synapsis for connecting the neurons\n",
    "# Also initializing random weights at mean at 0\n",
    "syn0 = 2 * np.random.random((3, 4)) - 1\n",
    "syn1 = 2 * np.random.random((4, 1)) - 1"
   ]
  },
  {
   "cell_type": "code",
   "execution_count": 6,
   "metadata": {
    "scrolled": true
   },
   "outputs": [
    {
     "name": "stdout",
     "output_type": "stream",
     "text": [
      "[[0.44856632 0.51939863 0.45968497 0.59156505]\n",
      " [0.28639589 0.32350963 0.31236398 0.51538526]\n",
      " [0.40795614 0.62674606 0.23841622 0.49377636]\n",
      " [0.25371248 0.42628115 0.14321233 0.41732254]]\n",
      "Mean Error: 0.4964100319027255\n",
      "### layer_1 ###\n",
      "[[0.44856632 0.51939863 0.45968497 0.59156505]\n",
      " [0.28639589 0.32350963 0.31236398 0.51538526]\n",
      " [0.40795614 0.62674606 0.23841622 0.49377636]\n",
      " [0.25371248 0.42628115 0.14321233 0.41732254]]\n",
      "Mean Error: 0.008584525653247153\n",
      "### layer_1 ###\n",
      "[[6.39794692e-01 1.37097918e-01 9.17995038e-01 9.94721470e-01]\n",
      " [2.05869639e-01 6.35412465e-04 1.84354882e-02 8.85392478e-01]\n",
      " [9.90358451e-01 8.73947201e-01 2.50298778e-02 7.89794557e-01]\n",
      " [9.37468194e-01 2.69966253e-02 4.30709360e-05 1.33471161e-01]]\n",
      "Mean Error: 0.0057894598625078085\n",
      "### layer_1 ###\n",
      "[[6.76071621e-01 1.28168162e-01 9.21470647e-01 9.95877626e-01]\n",
      " [1.88772093e-01 5.21962936e-04 1.76602176e-02 8.90030167e-01]\n",
      " [9.93442489e-01 8.83064272e-01 2.38921162e-02 8.11403421e-01]\n",
      " [9.44105922e-01 2.61256437e-02 3.74994886e-05 1.25978836e-01]]\n",
      "Mean Error: 0.004629176776769986\n",
      "### layer_1 ###\n",
      "[[6.95576716e-01 1.23557365e-01 9.23295634e-01 9.96399633e-01]\n",
      " [1.80042185e-01 4.68598291e-04 1.72599699e-02 8.92540117e-01]\n",
      " [9.94691880e-01 8.87830979e-01 2.32798641e-02 8.22207762e-01]\n",
      " [9.47390338e-01 2.56467836e-02 3.47757006e-05 1.21876247e-01]]\n",
      "Mean Error: 0.0039587652802736475\n",
      "### layer_1 ###\n",
      "[[7.08689508e-01 1.20492398e-01 9.24524509e-01 9.96718877e-01]\n",
      " [1.74302617e-01 4.35109464e-04 1.69966733e-02 8.94250366e-01]\n",
      " [9.95406919e-01 8.91002427e-01 2.28667210e-02 8.29236349e-01]\n",
      " [9.49508404e-01 2.53159032e-02 3.30317968e-05 1.19082563e-01]]\n",
      "Mean Error: 0.0035101225678616744\n",
      "### layer_1 ###\n",
      "[[7.18460543e-01 1.18214929e-01 9.25447158e-01 9.96942016e-01]\n",
      " [1.70078695e-01 4.11254098e-04 1.68033040e-02 8.95542038e-01]\n",
      " [9.95883301e-01 8.93354434e-01 2.25576001e-02 8.34373255e-01]\n",
      " [9.51045498e-01 2.50632132e-02 3.17727474e-05 1.16979665e-01]]\n",
      "Mean Error: 0.003183502385874829\n",
      "### layer_1 ###\n",
      "[[7.26191896e-01 1.16411744e-01 9.26184007e-01 9.97110325e-01]\n",
      " [1.66762503e-01 3.92988538e-04 1.66519329e-02 8.96576940e-01]\n",
      " [9.96229402e-01 8.95211332e-01 2.23120220e-02 8.38385780e-01]\n",
      " [9.52239109e-01 2.48589297e-02 3.07989458e-05 1.15301649e-01]]\n",
      "Mean Error: 0.002932306342283073\n",
      "### layer_1 ###\n",
      "[[7.32555806e-01 1.14924167e-01 9.26796400e-01 9.97243707e-01]\n",
      " [1.64047050e-01 3.78332817e-04 1.65283782e-02 8.97438624e-01]\n",
      " [9.96495380e-01 8.96738444e-01 2.21091028e-02 8.41658294e-01]\n",
      " [9.53207730e-01 2.46875706e-02 3.00112572e-05 1.13910347e-01]]\n",
      "Mean Error: 0.002731506418210507\n",
      "### layer_1 ###\n",
      "[[7.37942959e-01 1.13661076e-01 9.27319747e-01 9.97353139e-01]\n",
      " [1.61756678e-01 3.66180926e-04 1.64245011e-02 8.98175764e-01]\n",
      " [9.96708003e-01 8.98031023e-01 2.19367041e-02 8.44409428e-01]\n",
      " [9.54018503e-01 2.45400563e-02 2.93537151e-05 1.12725018e-01]]\n",
      "Mean Error: 0.0025663172400400263\n",
      "### layer_1 ###\n",
      "[[7.42599703e-01 1.12565476e-01 9.27776301e-01 9.97445260e-01]\n",
      " [1.59781915e-01 3.55856998e-04 1.63352217e-02 8.98819161e-01]\n",
      " [9.96883010e-01 8.99148757e-01 2.17871676e-02 8.46774811e-01]\n",
      " [9.54712935e-01 2.44106058e-02 2.87918307e-05 1.11694501e-01]]\n",
      "End of training\n",
      "[[0.00199094]\n",
      " [0.99751458]\n",
      " [0.99771098]\n",
      " [0.00294418]]\n"
     ]
    }
   ],
   "source": [
    "# training\n",
    "num_of_training = 10**5\n",
    "for num in range(num_of_training):\n",
    "    # Forward propogation: calculating layer_1 (hidden layer) values from the input and weights\n",
    "    layer_0 = X\n",
    "    layer_1 = sigmoid(np.dot(layer_0, syn0))\n",
    "    if num == 0:\n",
    "        print(layer_1)\n",
    "    \n",
    "    # Forward propogation: calculating layer_2 (output layer) from hidden layer and its weights\n",
    "    layer_2 = sigmoid(np.dot(layer_1, syn1))\n",
    "    # How much did we miss? Training error. \n",
    "    layer_2_error = y - layer_2\n",
    "    \n",
    "    if num % (num_of_training / 10) == 0:\n",
    "        print('Mean Error: {}'.format(np.mean(np.abs(layer_2_error))))\n",
    "        print('### layer_1 ###')\n",
    "        print(layer_1)\n",
    "        \n",
    "    layer_2_delta = layer_2_error * sigmoid(layer_2, deriv=True)\n",
    "    # This is the back-propogation. Calculating the layer_1 error\n",
    "    # from the 'confidence weighted error'\n",
    "    layer_1_error = layer_2_delta.dot(syn1.T)\n",
    "    layer_1_delta = layer_1_error * sigmoid(layer_1, deriv=True)\n",
    "    \n",
    "    # update weights\n",
    "    syn1 += layer_1.T.dot(layer_2_delta)\n",
    "    syn0 += layer_0.T.dot(layer_1_delta)\n",
    "    \n",
    "print('End of training')\n",
    "print(layer_2)"
   ]
  },
  {
   "cell_type": "code",
   "execution_count": 11,
   "metadata": {},
   "outputs": [
    {
     "data": {
      "text/plain": [
       "(4, 1)"
      ]
     },
     "execution_count": 11,
     "metadata": {},
     "output_type": "execute_result"
    }
   ],
   "source": [
    "layer_2_delta.shape"
   ]
  },
  {
   "cell_type": "code",
   "execution_count": 8,
   "metadata": {},
   "outputs": [
    {
     "data": {
      "text/plain": [
       "((4, 3), (3, 4))"
      ]
     },
     "execution_count": 8,
     "metadata": {},
     "output_type": "execute_result"
    }
   ],
   "source": [
    "layer_0.shape, syn0.shape"
   ]
  },
  {
   "cell_type": "code",
   "execution_count": null,
   "metadata": {},
   "outputs": [],
   "source": []
  }
 ],
 "metadata": {
  "kernelspec": {
   "display_name": "Python 3",
   "language": "python",
   "name": "python3"
  },
  "language_info": {
   "codemirror_mode": {
    "name": "ipython",
    "version": 3
   },
   "file_extension": ".py",
   "mimetype": "text/x-python",
   "name": "python",
   "nbconvert_exporter": "python",
   "pygments_lexer": "ipython3",
   "version": "3.5.2"
  }
 },
 "nbformat": 4,
 "nbformat_minor": 2
}
